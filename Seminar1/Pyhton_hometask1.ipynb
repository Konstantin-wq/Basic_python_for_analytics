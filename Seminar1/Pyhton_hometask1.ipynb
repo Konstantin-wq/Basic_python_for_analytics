{
 "cells": [
  {
   "cell_type": "markdown",
   "id": "fe9ac42e",
   "metadata": {},
   "source": [
    "# Домашнее задание к семинару №1"
   ]
  },
  {
   "cell_type": "markdown",
   "id": "26c94e95",
   "metadata": {},
   "source": [
    "## Задача 1 "
   ]
  },
  {
   "cell_type": "markdown",
   "id": "30201852",
   "metadata": {},
   "source": [
    "На складе лежат разные фрукты в разном количестве. Нужно написать функцию, которая на вход принимает любое количество названий фруктов и их количество, а возвращает общее количество фруктов на складе"
   ]
  },
  {
   "cell_type": "code",
   "execution_count": 1,
   "id": "f27ab8dd",
   "metadata": {},
   "outputs": [
    {
     "data": {
      "text/plain": [
       "'Общее количество фруктов на складе: 24'"
      ]
     },
     "execution_count": 1,
     "metadata": {},
     "output_type": "execute_result"
    }
   ],
   "source": [
    "total_fruits = {'banana': 5, 'mango': 7, 'apple': 8, 'peach': 4}\n",
    "\n",
    "def fruits_count(**kwargs):\n",
    "    return (f'Общее количество фруктов на складе: {sum(kwargs.values())}')\n",
    "   \n",
    "    \n",
    "fruits_count(**total_fruits)\n",
    "  \n",
    "    \n",
    "   "
   ]
  },
  {
   "cell_type": "markdown",
   "id": "3c5843ce",
   "metadata": {},
   "source": [
    "## Задача 2"
   ]
  },
  {
   "cell_type": "markdown",
   "id": "24e80229",
   "metadata": {},
   "source": [
    "Дан список с затратами на рекламу. Но в данных есть ошибки, некоторые затраты имеют отрицательную величину. Удалите такие значения из списка и посчитайте суммарные затраты\n",
    "[100, 125, -90, 345, 655, -1, 0, 200]\n",
    "Используйте list comprehensions"
   ]
  },
  {
   "cell_type": "code",
   "execution_count": 2,
   "id": "77b5ef86",
   "metadata": {},
   "outputs": [
    {
     "name": "stdout",
     "output_type": "stream",
     "text": [
      "[100, 125, 345, 655, 0, 200]\n",
      "Суммарные затраты на рекламу:1425\n"
     ]
    }
   ],
   "source": [
    "advertising_cost = [100, 125, -90, 345, 655, -1, 0, 200] \n",
    "filtered_data = [i for i in advertising_cost  if i>=0]\n",
    "print(f'{filtered_data}\\nСуммарные затраты на рекламу:{sum(filtered_data)}')"
   ]
  },
  {
   "cell_type": "markdown",
   "id": "69f7e2a8",
   "metadata": {},
   "source": [
    "## Задача 3"
   ]
  },
  {
   "cell_type": "markdown",
   "id": "286b7190",
   "metadata": {},
   "source": [
    "Даны два списка.\n",
    "Дата покупки и суммы покупок по датам\n"
   ]
  },
  {
   "cell_type": "code",
   "execution_count": 3,
   "id": "eadc4b79",
   "metadata": {},
   "outputs": [],
   "source": [
    "purchase_date = ['2021-09-14', '2021-12-15', '2021-09-08', '2021-12-05', '2021-10-09', '2021-09-30', '2021-12-22', '2021-11-29', '2021-12-24', '2021-11-26', '2021-10-27', '2021-12-18', '2021-11-09', '2021-11-23', '2021-09-27', '2021-10-02', '2021-12-27', '2021-09-20', '2021-12-13', '2021-11-01', '2021-11-09', '2021-12-06', '2021-12-08', '2021-10-09', '2021-10-31', '2021-09-30', '2021-11-09', '2021-12-13', '2021-10-26', '2021-12-09']\n",
    "purchase_price = [1270, 8413, 9028, 3703, 5739, 4095, 295, 4944, 5723, 3701, 4471, 651, 7037, 4274, 6275, 4988, 6930, 2971, 6592, 2004, 2822, 519, 3406, 2732, 5015, 2008, 316, 6333, 5700, 2887]"
   ]
  },
  {
   "cell_type": "markdown",
   "id": "1af78209",
   "metadata": {},
   "source": [
    "### Условие 3.1"
   ]
  },
  {
   "cell_type": "markdown",
   "id": "5f74928c",
   "metadata": {},
   "source": [
    "Найдите, какая выручка у компании в ноябре\n",
    "Используйте list comprehensions"
   ]
  },
  {
   "cell_type": "code",
   "execution_count": 4,
   "id": "39d8ff2a",
   "metadata": {},
   "outputs": [
    {
     "name": "stdout",
     "output_type": "stream",
     "text": [
      "25098\n"
     ]
    }
   ],
   "source": [
    "print(sum([x for x, y in zip(purchase_price, purchase_date) if y[5:7]=='11']))\n"
   ]
  },
  {
   "cell_type": "markdown",
   "id": "5d18554d",
   "metadata": {},
   "source": [
    "### Условие 3.2"
   ]
  },
  {
   "cell_type": "markdown",
   "id": "1e112583",
   "metadata": {},
   "source": [
    "Найдите выручку компании в зависимости от месяца\n",
    "Для этого напишите функцию, которая на вход принимает список с датами и список с выручкой, а на выходе словарь, где ключи - это месяцы, а значения - это выручка.\n",
    "Используйте аннотирование типов."
   ]
  },
  {
   "cell_type": "code",
   "execution_count": 5,
   "id": "b5652dab",
   "metadata": {},
   "outputs": [
    {
     "name": "stdout",
     "output_type": "stream",
     "text": [
      "+------------+---------+\n",
      "| Date       |   Price |\n",
      "+============+=========+\n",
      "| 2021-09-14 |    1270 |\n",
      "+------------+---------+\n",
      "| 2021-12-15 |    8413 |\n",
      "+------------+---------+\n",
      "| 2021-09-08 |    9028 |\n",
      "+------------+---------+\n",
      "| 2021-12-05 |    3703 |\n",
      "+------------+---------+\n",
      "| 2021-10-09 |    2732 |\n",
      "+------------+---------+\n",
      "| 2021-09-30 |    2008 |\n",
      "+------------+---------+\n",
      "| 2021-12-22 |     295 |\n",
      "+------------+---------+\n",
      "| 2021-11-29 |    4944 |\n",
      "+------------+---------+\n",
      "| 2021-12-24 |    5723 |\n",
      "+------------+---------+\n",
      "| 2021-11-26 |    3701 |\n",
      "+------------+---------+\n",
      "| 2021-10-27 |    4471 |\n",
      "+------------+---------+\n",
      "| 2021-12-18 |     651 |\n",
      "+------------+---------+\n",
      "| 2021-11-09 |     316 |\n",
      "+------------+---------+\n",
      "| 2021-11-23 |    4274 |\n",
      "+------------+---------+\n",
      "| 2021-09-27 |    6275 |\n",
      "+------------+---------+\n",
      "| 2021-10-02 |    4988 |\n",
      "+------------+---------+\n",
      "| 2021-12-27 |    6930 |\n",
      "+------------+---------+\n",
      "| 2021-09-20 |    2971 |\n",
      "+------------+---------+\n",
      "| 2021-12-13 |    6333 |\n",
      "+------------+---------+\n",
      "| 2021-11-01 |    2004 |\n",
      "+------------+---------+\n",
      "| 2021-12-06 |     519 |\n",
      "+------------+---------+\n",
      "| 2021-12-08 |    3406 |\n",
      "+------------+---------+\n",
      "| 2021-10-31 |    5015 |\n",
      "+------------+---------+\n",
      "| 2021-10-26 |    5700 |\n",
      "+------------+---------+\n",
      "| 2021-12-09 |    2887 |\n",
      "+------------+---------+\n"
     ]
    }
   ],
   "source": [
    "from tabulate import tabulate\n",
    "def monthly_revenue(a:list,b:list)->dict:\n",
    "    return dict(zip(a,b))\n",
    "\n",
    "revenue = monthly_revenue(purchase_date,purchase_price) \n",
    "print(tabulate(revenue.items(),headers = [\"Date\",\"Price\"],tablefmt=\"grid\"))\n",
    "\n"
   ]
  },
  {
   "cell_type": "code",
   "execution_count": null,
   "id": "90aeeab8",
   "metadata": {},
   "outputs": [],
   "source": []
  },
  {
   "cell_type": "code",
   "execution_count": null,
   "id": "51c4833c",
   "metadata": {},
   "outputs": [],
   "source": []
  }
 ],
 "metadata": {
  "kernelspec": {
   "display_name": "Python 3 (ipykernel)",
   "language": "python",
   "name": "python3"
  },
  "language_info": {
   "codemirror_mode": {
    "name": "ipython",
    "version": 3
   },
   "file_extension": ".py",
   "mimetype": "text/x-python",
   "name": "python",
   "nbconvert_exporter": "python",
   "pygments_lexer": "ipython3",
   "version": "3.9.13"
  }
 },
 "nbformat": 4,
 "nbformat_minor": 5
}
